{
 "cells": [
  {
   "cell_type": "code",
   "execution_count": 1,
   "id": "c2751732",
   "metadata": {},
   "outputs": [],
   "source": [
    "import pandas as pd\n",
    "import matplotlib.pyplot as plt\n",
    "from sklearn.cluster import KMeans"
   ]
  },
  {
   "cell_type": "code",
   "execution_count": 3,
   "id": "dafb6242",
   "metadata": {},
   "outputs": [
    {
     "data": {
      "text/html": [
       "<div>\n",
       "<style scoped>\n",
       "    .dataframe tbody tr th:only-of-type {\n",
       "        vertical-align: middle;\n",
       "    }\n",
       "\n",
       "    .dataframe tbody tr th {\n",
       "        vertical-align: top;\n",
       "    }\n",
       "\n",
       "    .dataframe thead th {\n",
       "        text-align: right;\n",
       "    }\n",
       "</style>\n",
       "<table border=\"1\" class=\"dataframe\">\n",
       "  <thead>\n",
       "    <tr style=\"text-align: right;\">\n",
       "      <th></th>\n",
       "      <th>CustomerID</th>\n",
       "      <th>Dealership</th>\n",
       "      <th>Showroom</th>\n",
       "      <th>ComputerSearch</th>\n",
       "      <th>M5</th>\n",
       "      <th>3Series</th>\n",
       "      <th>Z4</th>\n",
       "      <th>Financing</th>\n",
       "      <th>Purchase</th>\n",
       "    </tr>\n",
       "  </thead>\n",
       "  <tbody>\n",
       "    <tr>\n",
       "      <th>0</th>\n",
       "      <td>1</td>\n",
       "      <td>1</td>\n",
       "      <td>0</td>\n",
       "      <td>0</td>\n",
       "      <td>0</td>\n",
       "      <td>0</td>\n",
       "      <td>0</td>\n",
       "      <td>0</td>\n",
       "      <td>0</td>\n",
       "    </tr>\n",
       "    <tr>\n",
       "      <th>1</th>\n",
       "      <td>2</td>\n",
       "      <td>1</td>\n",
       "      <td>1</td>\n",
       "      <td>1</td>\n",
       "      <td>0</td>\n",
       "      <td>0</td>\n",
       "      <td>0</td>\n",
       "      <td>1</td>\n",
       "      <td>0</td>\n",
       "    </tr>\n",
       "    <tr>\n",
       "      <th>2</th>\n",
       "      <td>3</td>\n",
       "      <td>1</td>\n",
       "      <td>0</td>\n",
       "      <td>0</td>\n",
       "      <td>0</td>\n",
       "      <td>0</td>\n",
       "      <td>0</td>\n",
       "      <td>0</td>\n",
       "      <td>0</td>\n",
       "    </tr>\n",
       "    <tr>\n",
       "      <th>3</th>\n",
       "      <td>4</td>\n",
       "      <td>1</td>\n",
       "      <td>1</td>\n",
       "      <td>1</td>\n",
       "      <td>1</td>\n",
       "      <td>0</td>\n",
       "      <td>0</td>\n",
       "      <td>1</td>\n",
       "      <td>1</td>\n",
       "    </tr>\n",
       "    <tr>\n",
       "      <th>4</th>\n",
       "      <td>5</td>\n",
       "      <td>1</td>\n",
       "      <td>0</td>\n",
       "      <td>1</td>\n",
       "      <td>1</td>\n",
       "      <td>1</td>\n",
       "      <td>0</td>\n",
       "      <td>1</td>\n",
       "      <td>1</td>\n",
       "    </tr>\n",
       "  </tbody>\n",
       "</table>\n",
       "</div>"
      ],
      "text/plain": [
       "   CustomerID   Dealership   Showroom   ComputerSearch   M5   3Series   Z4  \\\n",
       "0           1            1          0                0    0         0    0   \n",
       "1           2            1          1                1    0         0    0   \n",
       "2           3            1          0                0    0         0    0   \n",
       "3           4            1          1                1    1         0    0   \n",
       "4           5            1          0                1    1         1    0   \n",
       "\n",
       "    Financing   Purchase  \n",
       "0           0          0  \n",
       "1           1          0  \n",
       "2           0          0  \n",
       "3           1          1  \n",
       "4           1          1  "
      ]
     },
     "execution_count": 3,
     "metadata": {},
     "output_type": "execute_result"
    }
   ],
   "source": [
    "url = 'https://raw.githubusercontent.com/victoriandujar/machine-learning/master/bmw.csv'\n",
    "\n",
    "df = pd.read_csv(url, delimiter = ';', error_bad_lines = False)\n",
    "df.head()"
   ]
  },
  {
   "cell_type": "code",
   "execution_count": 4,
   "id": "c187a523",
   "metadata": {},
   "outputs": [
    {
     "data": {
      "text/html": [
       "<div>\n",
       "<style scoped>\n",
       "    .dataframe tbody tr th:only-of-type {\n",
       "        vertical-align: middle;\n",
       "    }\n",
       "\n",
       "    .dataframe tbody tr th {\n",
       "        vertical-align: top;\n",
       "    }\n",
       "\n",
       "    .dataframe thead th {\n",
       "        text-align: right;\n",
       "    }\n",
       "</style>\n",
       "<table border=\"1\" class=\"dataframe\">\n",
       "  <thead>\n",
       "    <tr style=\"text-align: right;\">\n",
       "      <th></th>\n",
       "      <th>CustomerID</th>\n",
       "      <th>Dealership</th>\n",
       "      <th>Showroom</th>\n",
       "      <th>ComputerSearch</th>\n",
       "      <th>M5</th>\n",
       "      <th>3Series</th>\n",
       "      <th>Z4</th>\n",
       "      <th>Financing</th>\n",
       "      <th>Purchase</th>\n",
       "    </tr>\n",
       "  </thead>\n",
       "  <tbody>\n",
       "    <tr>\n",
       "      <th>count</th>\n",
       "      <td>100.000000</td>\n",
       "      <td>100.000000</td>\n",
       "      <td>100.000000</td>\n",
       "      <td>100.00000</td>\n",
       "      <td>100.000000</td>\n",
       "      <td>100.00</td>\n",
       "      <td>100.00</td>\n",
       "      <td>100.000000</td>\n",
       "      <td>100.000000</td>\n",
       "    </tr>\n",
       "    <tr>\n",
       "      <th>mean</th>\n",
       "      <td>50.500000</td>\n",
       "      <td>0.600000</td>\n",
       "      <td>0.720000</td>\n",
       "      <td>0.43000</td>\n",
       "      <td>0.530000</td>\n",
       "      <td>0.55</td>\n",
       "      <td>0.45</td>\n",
       "      <td>0.610000</td>\n",
       "      <td>0.390000</td>\n",
       "    </tr>\n",
       "    <tr>\n",
       "      <th>std</th>\n",
       "      <td>29.011492</td>\n",
       "      <td>0.492366</td>\n",
       "      <td>0.451261</td>\n",
       "      <td>0.49757</td>\n",
       "      <td>0.501614</td>\n",
       "      <td>0.50</td>\n",
       "      <td>0.50</td>\n",
       "      <td>0.490207</td>\n",
       "      <td>0.490207</td>\n",
       "    </tr>\n",
       "    <tr>\n",
       "      <th>min</th>\n",
       "      <td>1.000000</td>\n",
       "      <td>0.000000</td>\n",
       "      <td>0.000000</td>\n",
       "      <td>0.00000</td>\n",
       "      <td>0.000000</td>\n",
       "      <td>0.00</td>\n",
       "      <td>0.00</td>\n",
       "      <td>0.000000</td>\n",
       "      <td>0.000000</td>\n",
       "    </tr>\n",
       "    <tr>\n",
       "      <th>25%</th>\n",
       "      <td>25.750000</td>\n",
       "      <td>0.000000</td>\n",
       "      <td>0.000000</td>\n",
       "      <td>0.00000</td>\n",
       "      <td>0.000000</td>\n",
       "      <td>0.00</td>\n",
       "      <td>0.00</td>\n",
       "      <td>0.000000</td>\n",
       "      <td>0.000000</td>\n",
       "    </tr>\n",
       "    <tr>\n",
       "      <th>50%</th>\n",
       "      <td>50.500000</td>\n",
       "      <td>1.000000</td>\n",
       "      <td>1.000000</td>\n",
       "      <td>0.00000</td>\n",
       "      <td>1.000000</td>\n",
       "      <td>1.00</td>\n",
       "      <td>0.00</td>\n",
       "      <td>1.000000</td>\n",
       "      <td>0.000000</td>\n",
       "    </tr>\n",
       "    <tr>\n",
       "      <th>75%</th>\n",
       "      <td>75.250000</td>\n",
       "      <td>1.000000</td>\n",
       "      <td>1.000000</td>\n",
       "      <td>1.00000</td>\n",
       "      <td>1.000000</td>\n",
       "      <td>1.00</td>\n",
       "      <td>1.00</td>\n",
       "      <td>1.000000</td>\n",
       "      <td>1.000000</td>\n",
       "    </tr>\n",
       "    <tr>\n",
       "      <th>max</th>\n",
       "      <td>100.000000</td>\n",
       "      <td>1.000000</td>\n",
       "      <td>1.000000</td>\n",
       "      <td>1.00000</td>\n",
       "      <td>1.000000</td>\n",
       "      <td>1.00</td>\n",
       "      <td>1.00</td>\n",
       "      <td>1.000000</td>\n",
       "      <td>1.000000</td>\n",
       "    </tr>\n",
       "  </tbody>\n",
       "</table>\n",
       "</div>"
      ],
      "text/plain": [
       "       CustomerID   Dealership    Showroom   ComputerSearch          M5  \\\n",
       "count  100.000000   100.000000  100.000000        100.00000  100.000000   \n",
       "mean    50.500000     0.600000    0.720000          0.43000    0.530000   \n",
       "std     29.011492     0.492366    0.451261          0.49757    0.501614   \n",
       "min      1.000000     0.000000    0.000000          0.00000    0.000000   \n",
       "25%     25.750000     0.000000    0.000000          0.00000    0.000000   \n",
       "50%     50.500000     1.000000    1.000000          0.00000    1.000000   \n",
       "75%     75.250000     1.000000    1.000000          1.00000    1.000000   \n",
       "max    100.000000     1.000000    1.000000          1.00000    1.000000   \n",
       "\n",
       "        3Series      Z4   Financing    Purchase  \n",
       "count    100.00  100.00  100.000000  100.000000  \n",
       "mean       0.55    0.45    0.610000    0.390000  \n",
       "std        0.50    0.50    0.490207    0.490207  \n",
       "min        0.00    0.00    0.000000    0.000000  \n",
       "25%        0.00    0.00    0.000000    0.000000  \n",
       "50%        1.00    0.00    1.000000    0.000000  \n",
       "75%        1.00    1.00    1.000000    1.000000  \n",
       "max        1.00    1.00    1.000000    1.000000  "
      ]
     },
     "execution_count": 4,
     "metadata": {},
     "output_type": "execute_result"
    }
   ],
   "source": [
    "df.describe()"
   ]
  },
  {
   "cell_type": "code",
   "execution_count": 5,
   "id": "11d4e4f5",
   "metadata": {},
   "outputs": [],
   "source": [
    "car = df.iloc[:, 1:9].values"
   ]
  },
  {
   "cell_type": "code",
   "execution_count": 6,
   "id": "6293c3b4",
   "metadata": {},
   "outputs": [
    {
     "data": {
      "text/plain": [
       "KMeans(init='random', n_clusters=3)"
      ]
     },
     "execution_count": 6,
     "metadata": {},
     "output_type": "execute_result"
    }
   ],
   "source": [
    "km = KMeans(n_clusters = 3, init = 'random')\n",
    "km"
   ]
  },
  {
   "cell_type": "code",
   "execution_count": 7,
   "id": "61218fc3",
   "metadata": {},
   "outputs": [
    {
     "data": {
      "text/plain": [
       "KMeans(init='random', n_clusters=3)"
      ]
     },
     "execution_count": 7,
     "metadata": {},
     "output_type": "execute_result"
    }
   ],
   "source": [
    "km.fit(car)"
   ]
  },
  {
   "cell_type": "code",
   "execution_count": 8,
   "id": "cb43327e",
   "metadata": {},
   "outputs": [
    {
     "data": {
      "text/plain": [
       "array([[ 7.80487805e-01,  6.34146341e-01,  4.87804878e-01,\n",
       "         7.80487805e-01,  2.43902439e-01,  3.41463415e-01,\n",
       "         1.00000000e+00,  7.31707317e-01],\n",
       "       [ 9.03225806e-01,  5.80645161e-01,  4.51612903e-01,\n",
       "         6.77419355e-01,  5.48387097e-01,  3.87096774e-01,\n",
       "         1.93548387e-01, -1.11022302e-16],\n",
       "       [ 1.11022302e-16,  1.00000000e+00,  3.21428571e-01,\n",
       "         2.22044605e-16,  1.00000000e+00,  6.78571429e-01,\n",
       "         5.00000000e-01,  3.21428571e-01]])"
      ]
     },
     "execution_count": 8,
     "metadata": {},
     "output_type": "execute_result"
    }
   ],
   "source": [
    "km.cluster_centers_"
   ]
  },
  {
   "cell_type": "code",
   "execution_count": 9,
   "id": "a5f9d9e5",
   "metadata": {},
   "outputs": [
    {
     "data": {
      "text/plain": [
       "array([1, 0, 1, 0, 0, 1, 0, 1, 1, 0, 1, 1, 0, 0, 1, 0, 0, 0, 1, 1, 0, 0,\n",
       "       0, 1, 1, 1, 1, 1, 1, 1, 0, 1, 0, 1, 0, 1, 0, 2, 2, 2, 2, 2, 2, 2,\n",
       "       2, 2, 2, 0, 1, 0, 0, 0, 0, 1, 1, 0, 1, 1, 0, 0, 0, 1, 0, 0, 0, 1,\n",
       "       1, 0, 1, 0, 0, 0, 0, 1, 0, 0, 0, 0, 0, 1, 0, 0, 2, 2, 2, 2, 2, 2,\n",
       "       2, 2, 2, 2, 2, 2, 2, 2, 2, 2, 2, 2], dtype=int32)"
      ]
     },
     "execution_count": 9,
     "metadata": {},
     "output_type": "execute_result"
    }
   ],
   "source": [
    "fields = km.labels_\n",
    "fields"
   ]
  },
  {
   "cell_type": "code",
   "execution_count": 10,
   "id": "4fd3b66e",
   "metadata": {},
   "outputs": [
    {
     "data": {
      "text/plain": [
       "array([[1.25922522, 1.88245   , 1.85364618],\n",
       "       [1.19121009, 1.77473339, 1.53996365],\n",
       "       [1.25922522, 1.88245   , 1.85364618],\n",
       "       [1.44417733, 2.10295171, 0.87096774],\n",
       "       [1.64218125, 2.07393196, 1.12903226],\n",
       "       [1.28109473, 1.4135641 , 1.93036959],\n",
       "       [1.64218125, 2.11731243, 1.26384116],\n",
       "       [1.38527307, 1.69615781, 1.9717041 ],\n",
       "       [1.32375028, 1.46617823, 1.65115921],\n",
       "       [1.69216605, 2.007104  , 1.30156394],\n",
       "       [1.3650736 , 1.89048169, 1.62158951],\n",
       "       [1.19121009, 2.10295171, 1.80961704],\n",
       "       [1.53734379, 2.30243214, 0.95910121],\n",
       "       [1.25922522, 1.69615781, 1.6705816 ],\n",
       "       [1.32375028, 1.84997456, 1.90513846],\n",
       "       [1.55530752, 1.84997456, 1.05518885],\n",
       "       [1.64218125, 2.11731243, 1.26384116],\n",
       "       [1.30259712, 2.007104  , 1.5914705 ],\n",
       "       [1.1436216 , 1.57575758, 1.71817729],\n",
       "       [1.11906873, 2.08849224, 1.6608988 ],\n",
       "       [1.60799507, 1.82523883, 1.36211563],\n",
       "       [1.69216605, 2.05189782, 1.42008779],\n",
       "       [1.19121009, 1.67819703, 1.50821545],\n",
       "       [0.98718642, 1.86628292, 1.61161239],\n",
       "       [1.25922522, 1.53681483, 1.53996365],\n",
       "       [1.3445707 , 1.31355859, 2.03609469],\n",
       "       [1.25922522, 1.53681483, 1.53996365],\n",
       "       [1.19121009, 1.62312264, 1.3971876 ],\n",
       "       [1.21430517, 1.59487241, 1.8623271 ],\n",
       "       [1.25922522, 1.53681483, 1.53996365],\n",
       "       [1.11906873, 1.83352115, 1.42008779],\n",
       "       [1.06827136, 1.79172673, 1.7368504 ],\n",
       "       [1.65901019, 1.50694749, 1.30156394],\n",
       "       [1.3445707 , 1.31355859, 2.03609469],\n",
       "       [1.11906873, 1.83352115, 1.42008779],\n",
       "       [1.21430517, 1.59487241, 1.8623271 ],\n",
       "       [1.55530752, 1.75757576, 1.0082903 ],\n",
       "       [1.64218125, 1.12733789, 1.79170246],\n",
       "       [1.64218125, 1.12733789, 1.79170246],\n",
       "       [1.60799507, 0.88659023, 2.02815767],\n",
       "       [1.60799507, 0.88659023, 2.02815767],\n",
       "       [1.65901019, 0.71646003, 2.12903226],\n",
       "       [1.92269583, 1.17987408, 1.47578442],\n",
       "       [1.60799507, 0.88659023, 2.02815767],\n",
       "       [1.65901019, 0.92013494, 2.1516395 ],\n",
       "       [1.64218125, 1.12733789, 1.79170246],\n",
       "       [1.96555995, 1.20528375, 1.64136184],\n",
       "       [1.81875517, 2.10295171, 1.18479791],\n",
       "       [1.11906873, 2.16682559, 1.68978076],\n",
       "       [1.23696912, 2.13867273, 1.50821545],\n",
       "       [1.78794834, 1.8085604 , 1.28911234],\n",
       "       [1.48214684, 1.67819703, 1.61161239],\n",
       "       [1.50077141, 1.95354684, 1.03979106],\n",
       "       [0.98718642, 1.86628292, 1.61161239],\n",
       "       [1.50077141, 1.26657967, 1.85364618],\n",
       "       [1.90819383, 1.75757576, 1.28911234],\n",
       "       [1.59062648, 1.57575758, 1.8966535 ],\n",
       "       [1.25922522, 1.96899754, 1.87956866],\n",
       "       [1.44417733, 2.02214553, 0.81351743],\n",
       "       [1.55530752, 1.75757576, 1.0082903 ],\n",
       "       [1.04194441, 1.9919489 , 1.30156394],\n",
       "       [0.98718642, 1.86628292, 1.61161239],\n",
       "       [1.55530752, 1.75757576, 1.0082903 ],\n",
       "       [1.50077141, 2.03707599, 1.08532928],\n",
       "       [1.04194441, 1.90644357, 1.26384116],\n",
       "       [1.25922522, 1.96899754, 1.87956866],\n",
       "       [0.98718642, 1.86628292, 1.61161239],\n",
       "       [1.44417733, 2.02214553, 0.81351743],\n",
       "       [1.21430517, 1.65088951, 1.9470087 ],\n",
       "       [1.44417733, 2.02214553, 0.81351743],\n",
       "       [1.50077141, 2.03707599, 1.08532928],\n",
       "       [1.55530752, 1.75757576, 1.0082903 ],\n",
       "       [1.81875517, 2.02214553, 1.14322872],\n",
       "       [1.11906873, 2.08849224, 1.6608988 ],\n",
       "       [1.59062648, 2.16682559, 1.114655  ],\n",
       "       [1.74071611, 1.79172673, 1.07036516],\n",
       "       [1.51916766, 1.90644357, 1.49748315],\n",
       "       [1.50077141, 2.03707599, 1.08532928],\n",
       "       [1.44417733, 2.02214553, 0.81351743],\n",
       "       [1.59062648, 1.57575758, 1.8966535 ],\n",
       "       [1.81875517, 2.02214553, 1.14322872],\n",
       "       [1.90819383, 1.75757576, 1.28911234],\n",
       "       [1.60799507, 1.05800547, 2.05187663],\n",
       "       [1.96555995, 1.05800547, 1.61161239],\n",
       "       [1.65901019, 0.71646003, 2.12903226],\n",
       "       [1.65901019, 0.71646003, 2.12903226],\n",
       "       [1.65901019, 0.71646003, 2.12903226],\n",
       "       [1.96555995, 1.05800547, 1.61161239],\n",
       "       [1.65901019, 0.71646003, 2.12903226],\n",
       "       [1.65901019, 0.92013494, 2.1516395 ],\n",
       "       [1.96555995, 1.05800547, 1.61161239],\n",
       "       [1.96555995, 1.05800547, 1.61161239],\n",
       "       [1.60799507, 1.05800547, 2.05187663],\n",
       "       [1.96555995, 1.05800547, 1.61161239],\n",
       "       [1.69216605, 0.81537115, 1.87956866],\n",
       "       [1.65901019, 0.71646003, 2.12903226],\n",
       "       [1.96555995, 1.05800547, 1.61161239],\n",
       "       [1.96555995, 1.05800547, 1.61161239],\n",
       "       [1.65901019, 0.71646003, 2.12903226],\n",
       "       [1.69216605, 0.9990813 , 1.90513846]])"
      ]
     },
     "execution_count": 10,
     "metadata": {},
     "output_type": "execute_result"
    }
   ],
   "source": [
    "space = km.fit_transform(car)\n",
    "space"
   ]
  },
  {
   "cell_type": "code",
   "execution_count": 11,
   "id": "6b5bfcb0",
   "metadata": {},
   "outputs": [
    {
     "data": {
      "text/plain": [
       "array([[ 9.72222222e-01,  6.38888889e-01,  5.00000000e-01,\n",
       "         6.66666667e-01,  3.33333333e-01,  4.16666667e-01,\n",
       "         4.44444444e-01, -1.11022302e-16],\n",
       "       [ 6.06060606e-02,  9.39393939e-01,  3.33333333e-01,\n",
       "         9.09090909e-02,  1.00000000e+00,  6.36363636e-01,\n",
       "         4.24242424e-01,  2.72727273e-01],\n",
       "       [ 7.41935484e-01,  5.80645161e-01,  4.51612903e-01,\n",
       "         8.38709677e-01,  3.22580645e-01,  2.90322581e-01,\n",
       "         1.00000000e+00,  9.67741935e-01]])"
      ]
     },
     "execution_count": 11,
     "metadata": {},
     "output_type": "execute_result"
    }
   ],
   "source": [
    "km.cluster_centers_"
   ]
  },
  {
   "cell_type": "code",
   "execution_count": 14,
   "id": "6d62e022",
   "metadata": {},
   "outputs": [
    {
     "data": {
      "image/png": "[encoded data removed]",
      "text/plain": [
       "<Figure size 432x288 with 1 Axes>"
      ]
     },
     "metadata": {
      "needs_background": "light"
     },
     "output_type": "display_data"
    }
   ],
   "source": [
    "plt.plot(range(1, maxclusters), wcsse, color=\"red\")\n",
    "plt.xlabel('Clusters')\n",
    "plt.ylabel('Within Cluster Sum of Squares') \n",
    "plt.show()"
   ]
  },
  {
   "cell_type": "code",
   "execution_count": null,
   "id": "be3d7926",
   "metadata": {},
   "outputs": [],
   "source": []
  }
 ],
 "metadata": {
  "kernelspec": {
   "display_name": "Python 3 (ipykernel)",
   "language": "python",
   "name": "python3"
  },
  "language_info": {
   "codemirror_mode": {
    "name": "ipython",
    "version": 3
   },
   "file_extension": ".py",
   "mimetype": "text/x-python",
   "name": "python",
   "nbconvert_exporter": "python",
   "pygments_lexer": "ipython3",
   "version": "3.8.10"
  }
 },
 "nbformat": 4,
 "nbformat_minor": 5
}
