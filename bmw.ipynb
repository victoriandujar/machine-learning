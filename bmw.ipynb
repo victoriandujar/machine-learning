{
 "cells": [
  {
   "cell_type": "code",
   "execution_count": 1,
   "id": "99a3df07",
   "metadata": {},
   "outputs": [],
   "source": [
    "import pandas as pd\n",
    "from sklearn.cluster import KMeans\n",
    "import matplotlib.pyplot as plt"
   ]
  },
  {
   "cell_type": "code",
   "execution_count": 2,
   "id": "bce2cb13",
   "metadata": {},
   "outputs": [
    {
     "data": {
      "text/html": [
       "<div>\n",
       "<style scoped>\n",
       "    .dataframe tbody tr th:only-of-type {\n",
       "        vertical-align: middle;\n",
       "    }\n",
       "\n",
       "    .dataframe tbody tr th {\n",
       "        vertical-align: top;\n",
       "    }\n",
       "\n",
       "    .dataframe thead th {\n",
       "        text-align: right;\n",
       "    }\n",
       "</style>\n",
       "<table border=\"1\" class=\"dataframe\">\n",
       "  <thead>\n",
       "    <tr style=\"text-align: right;\">\n",
       "      <th></th>\n",
       "      <th>0</th>\n",
       "      <th>0.1</th>\n",
       "      <th>0.2</th>\n",
       "      <th>1</th>\n",
       "      <th>0.3</th>\n",
       "      <th>0.4</th>\n",
       "      <th>0.5</th>\n",
       "      <th>1.1</th>\n",
       "      <th>1.2</th>\n",
       "      <th>0.6</th>\n",
       "      <th>...</th>\n",
       "      <th>1.4</th>\n",
       "      <th>0.11</th>\n",
       "      <th>0.12</th>\n",
       "      <th>1.5</th>\n",
       "      <th>0.13</th>\n",
       "      <th>0.14</th>\n",
       "      <th>1.6</th>\n",
       "      <th>0.15</th>\n",
       "      <th>0.16</th>\n",
       "      <th>0.17</th>\n",
       "    </tr>\n",
       "  </thead>\n",
       "  <tbody>\n",
       "    <tr>\n",
       "      <th>0</th>\n",
       "      <td>0</td>\n",
       "      <td>0</td>\n",
       "      <td>0</td>\n",
       "      <td>1</td>\n",
       "      <td>0</td>\n",
       "      <td>0</td>\n",
       "      <td>0</td>\n",
       "      <td>1</td>\n",
       "      <td>1</td>\n",
       "      <td>0</td>\n",
       "      <td>...</td>\n",
       "      <td>1</td>\n",
       "      <td>0</td>\n",
       "      <td>0</td>\n",
       "      <td>0</td>\n",
       "      <td>1</td>\n",
       "      <td>0</td>\n",
       "      <td>1</td>\n",
       "      <td>0</td>\n",
       "      <td>0</td>\n",
       "      <td>0</td>\n",
       "    </tr>\n",
       "    <tr>\n",
       "      <th>1</th>\n",
       "      <td>0</td>\n",
       "      <td>0</td>\n",
       "      <td>0</td>\n",
       "      <td>1</td>\n",
       "      <td>0</td>\n",
       "      <td>0</td>\n",
       "      <td>0</td>\n",
       "      <td>1</td>\n",
       "      <td>1</td>\n",
       "      <td>0</td>\n",
       "      <td>...</td>\n",
       "      <td>1</td>\n",
       "      <td>0</td>\n",
       "      <td>0</td>\n",
       "      <td>0</td>\n",
       "      <td>0</td>\n",
       "      <td>1</td>\n",
       "      <td>1</td>\n",
       "      <td>0</td>\n",
       "      <td>0</td>\n",
       "      <td>0</td>\n",
       "    </tr>\n",
       "    <tr>\n",
       "      <th>2</th>\n",
       "      <td>0</td>\n",
       "      <td>0</td>\n",
       "      <td>0</td>\n",
       "      <td>1</td>\n",
       "      <td>0</td>\n",
       "      <td>0</td>\n",
       "      <td>0</td>\n",
       "      <td>1</td>\n",
       "      <td>1</td>\n",
       "      <td>0</td>\n",
       "      <td>...</td>\n",
       "      <td>0</td>\n",
       "      <td>1</td>\n",
       "      <td>0</td>\n",
       "      <td>1</td>\n",
       "      <td>0</td>\n",
       "      <td>0</td>\n",
       "      <td>1</td>\n",
       "      <td>0</td>\n",
       "      <td>0</td>\n",
       "      <td>0</td>\n",
       "    </tr>\n",
       "    <tr>\n",
       "      <th>3</th>\n",
       "      <td>0</td>\n",
       "      <td>0</td>\n",
       "      <td>0</td>\n",
       "      <td>1</td>\n",
       "      <td>0</td>\n",
       "      <td>0</td>\n",
       "      <td>0</td>\n",
       "      <td>1</td>\n",
       "      <td>1</td>\n",
       "      <td>0</td>\n",
       "      <td>...</td>\n",
       "      <td>0</td>\n",
       "      <td>1</td>\n",
       "      <td>0</td>\n",
       "      <td>0</td>\n",
       "      <td>1</td>\n",
       "      <td>0</td>\n",
       "      <td>1</td>\n",
       "      <td>0</td>\n",
       "      <td>0</td>\n",
       "      <td>0</td>\n",
       "    </tr>\n",
       "    <tr>\n",
       "      <th>4</th>\n",
       "      <td>0</td>\n",
       "      <td>0</td>\n",
       "      <td>0</td>\n",
       "      <td>1</td>\n",
       "      <td>0</td>\n",
       "      <td>0</td>\n",
       "      <td>0</td>\n",
       "      <td>1</td>\n",
       "      <td>1</td>\n",
       "      <td>0</td>\n",
       "      <td>...</td>\n",
       "      <td>0</td>\n",
       "      <td>1</td>\n",
       "      <td>0</td>\n",
       "      <td>0</td>\n",
       "      <td>0</td>\n",
       "      <td>1</td>\n",
       "      <td>1</td>\n",
       "      <td>0</td>\n",
       "      <td>0</td>\n",
       "      <td>0</td>\n",
       "    </tr>\n",
       "  </tbody>\n",
       "</table>\n",
       "<p>5 rows × 25 columns</p>\n",
       "</div>"
      ],
      "text/plain": [
       "   0  0.1  0.2  1  0.3  0.4  0.5  1.1  1.2  0.6  ...  1.4  0.11  0.12  1.5  \\\n",
       "0  0    0    0  1    0    0    0    1    1    0  ...    1     0     0    0   \n",
       "1  0    0    0  1    0    0    0    1    1    0  ...    1     0     0    0   \n",
       "2  0    0    0  1    0    0    0    1    1    0  ...    0     1     0    1   \n",
       "3  0    0    0  1    0    0    0    1    1    0  ...    0     1     0    0   \n",
       "4  0    0    0  1    0    0    0    1    1    0  ...    0     1     0    0   \n",
       "\n",
       "   0.13  0.14  1.6  0.15  0.16  0.17  \n",
       "0     1     0    1     0     0     0  \n",
       "1     0     1    1     0     0     0  \n",
       "2     0     0    1     0     0     0  \n",
       "3     1     0    1     0     0     0  \n",
       "4     0     1    1     0     0     0  \n",
       "\n",
       "[5 rows x 25 columns]"
      ]
     },
     "execution_count": 2,
     "metadata": {},
     "output_type": "execute_result"
    }
   ],
   "source": [
    "url = 'https://raw.githubusercontent.com/victoriandujar/machine-learning/master/cars.csv'\n",
    "\n",
    "df = pd.read_csv(url, delimiter = ';', error_bad_lines = False)\n",
    "df.head()"
   ]
  },
  {
   "cell_type": "code",
   "execution_count": 3,
   "id": "8b112b8b",
   "metadata": {},
   "outputs": [
    {
     "data": {
      "text/plain": [
       "KMeans(init='random', n_clusters=3)"
      ]
     },
     "execution_count": 3,
     "metadata": {},
     "output_type": "execute_result"
    }
   ],
   "source": [
    "km = KMeans(n_clusters = 3, init = 'random')\n",
    "km"
   ]
  },
  {
   "cell_type": "code",
   "execution_count": 4,
   "id": "0b50e5e3",
   "metadata": {},
   "outputs": [
    {
     "data": {
      "text/plain": [
       "KMeans(init='random', n_clusters=3)"
      ]
     },
     "execution_count": 4,
     "metadata": {},
     "output_type": "execute_result"
    }
   ],
   "source": [
    "km.fit(df)"
   ]
  },
  {
   "cell_type": "code",
   "execution_count": 5,
   "id": "12512dbe",
   "metadata": {},
   "outputs": [
    {
     "data": {
      "text/plain": [
       "array([[ 1.79810726e-01,  1.95583596e-01,  2.83911672e-01,\n",
       "         3.40694006e-01,  1.95583596e-01,  1.95583596e-01,\n",
       "         2.68138801e-01,  3.40694006e-01,  2.87066246e-01,\n",
       "         2.46056782e-01,  2.33438486e-01,  2.33438486e-01,\n",
       "         1.66533454e-16,  4.92113565e-01,  5.07886435e-01,\n",
       "         4.06940063e-01,  3.15457413e-01,  2.77602524e-01,\n",
       "         6.05678233e-01,  2.60252366e-01,  1.34069401e-01,\n",
       "         1.00000000e+00,  4.99600361e-16, -4.16333634e-17,\n",
       "         6.93889390e-17],\n",
       "       [ 3.35907336e-01,  3.16602317e-01,  2.08494208e-01,\n",
       "         1.38996139e-01,  3.16602317e-01,  3.16602317e-01,\n",
       "         2.27799228e-01,  1.38996139e-01,  2.04633205e-01,\n",
       "         2.54826255e-01,  2.70270270e-01,  2.70270270e-01,\n",
       "        -2.22044605e-16,  5.09652510e-01,  4.90347490e-01,\n",
       "         2.43243243e-01,  3.55212355e-01,  4.01544402e-01,\n",
       "        -2.22044605e-16,  4.22779923e-01,  5.77220077e-01,\n",
       "         1.66533454e-15,  7.41312741e-01,  1.33204633e-01,\n",
       "         1.25482625e-01],\n",
       "       [ 2.50434783e-01,  2.50434783e-01,  2.50434783e-01,\n",
       "         2.48695652e-01,  2.50434783e-01,  2.50434783e-01,\n",
       "         2.50434783e-01,  2.48695652e-01,  2.48695652e-01,\n",
       "         2.50434783e-01,  2.50434783e-01,  2.50434783e-01,\n",
       "         1.00000000e+00, -7.77156117e-16, -7.77156117e-16,\n",
       "         3.32173913e-01,  3.33913043e-01,  3.33913043e-01,\n",
       "         3.32173913e-01,  3.33913043e-01,  3.33913043e-01,\n",
       "         1.00000000e+00,  4.16333634e-16,  4.85722573e-17,\n",
       "        -1.38777878e-17]])"
      ]
     },
     "execution_count": 5,
     "metadata": {},
     "output_type": "execute_result"
    }
   ],
   "source": [
    "km.cluster_centers_"
   ]
  },
  {
   "cell_type": "code",
   "execution_count": 6,
   "id": "b38b7fbc",
   "metadata": {},
   "outputs": [
    {
     "data": {
      "text/plain": [
       "array([2, 2, 2, ..., 0, 1, 1], dtype=int32)"
      ]
     },
     "execution_count": 6,
     "metadata": {},
     "output_type": "execute_result"
    }
   ],
   "source": [
    "fields = km.labels_\n",
    "fields"
   ]
  },
  {
   "cell_type": "code",
   "execution_count": 7,
   "id": "e68ef873",
   "metadata": {},
   "outputs": [
    {
     "data": {
      "text/plain": [
       "array([[ 1.79810726e-01,  1.95583596e-01,  2.83911672e-01,\n",
       "         3.40694006e-01,  1.95583596e-01,  1.95583596e-01,\n",
       "         2.68138801e-01,  3.40694006e-01,  2.87066246e-01,\n",
       "         2.46056782e-01,  2.33438486e-01,  2.33438486e-01,\n",
       "         1.66533454e-16,  4.92113565e-01,  5.07886435e-01,\n",
       "         4.06940063e-01,  3.15457413e-01,  2.77602524e-01,\n",
       "         6.05678233e-01,  2.60252366e-01,  1.34069401e-01,\n",
       "         1.00000000e+00,  4.99600361e-16, -4.16333634e-17,\n",
       "         6.93889390e-17],\n",
       "       [ 3.35907336e-01,  3.16602317e-01,  2.08494208e-01,\n",
       "         1.38996139e-01,  3.16602317e-01,  3.16602317e-01,\n",
       "         2.27799228e-01,  1.38996139e-01,  2.04633205e-01,\n",
       "         2.54826255e-01,  2.70270270e-01,  2.70270270e-01,\n",
       "        -2.22044605e-16,  5.09652510e-01,  4.90347490e-01,\n",
       "         2.43243243e-01,  3.55212355e-01,  4.01544402e-01,\n",
       "        -2.22044605e-16,  4.22779923e-01,  5.77220077e-01,\n",
       "         1.66533454e-15,  7.41312741e-01,  1.33204633e-01,\n",
       "         1.25482625e-01],\n",
       "       [ 2.50434783e-01,  2.50434783e-01,  2.50434783e-01,\n",
       "         2.48695652e-01,  2.50434783e-01,  2.50434783e-01,\n",
       "         2.50434783e-01,  2.48695652e-01,  2.48695652e-01,\n",
       "         2.50434783e-01,  2.50434783e-01,  2.50434783e-01,\n",
       "         1.00000000e+00, -7.77156117e-16, -7.77156117e-16,\n",
       "         3.32173913e-01,  3.33913043e-01,  3.33913043e-01,\n",
       "         3.32173913e-01,  3.33913043e-01,  3.33913043e-01,\n",
       "         1.00000000e+00,  4.16333634e-16,  4.85722573e-17,\n",
       "        -1.38777878e-17]])"
      ]
     },
     "execution_count": 7,
     "metadata": {},
     "output_type": "execute_result"
    }
   ],
   "source": [
    "km.cluster_centers_"
   ]
  },
  {
   "cell_type": "code",
   "execution_count": 8,
   "id": "b9df9b0a",
   "metadata": {},
   "outputs": [
    {
     "data": {
      "text/plain": [
       "array([[2.72853075, 1.72922032, 2.36554601],\n",
       "       [2.67132921, 1.80071342, 2.36554601],\n",
       "       [2.84015874, 2.07348768, 1.89534421],\n",
       "       ...,\n",
       "       [2.47241456, 2.4280786 , 1.89167033],\n",
       "       [2.23626131, 2.60180374, 2.75289241],\n",
       "       [2.16966088, 2.64985823, 2.75289241]])"
      ]
     },
     "execution_count": 8,
     "metadata": {},
     "output_type": "execute_result"
    }
   ],
   "source": [
    "space = km.fit_transform(df)\n",
    "space"
   ]
  },
  {
   "cell_type": "code",
   "execution_count": 12,
   "id": "fc1e55fd",
   "metadata": {},
   "outputs": [
    {
     "data": {
      "image/png": "[encoded data removed]",
      "text/plain": [
       "<Figure size 432x288 with 1 Axes>"
      ]
     },
     "metadata": {
      "needs_background": "light"
     },
     "output_type": "display_data"
    }
   ],
   "source": [
    "plt.plot(range(1, maxclusters), wcsse, color=\"red\")\n",
    "plt.xlabel('Clusters')\n",
    "plt.ylabel('Within Cluster Sum of Squares')\n",
    "plt.show()"
   ]
  },
  {
   "cell_type": "code",
   "execution_count": null,
   "id": "430d1582",
   "metadata": {},
   "outputs": [],
   "source": []
  }
 ],
 "metadata": {
  "kernelspec": {
   "display_name": "Python 3 (ipykernel)",
   "language": "python",
   "name": "python3"
  },
  "language_info": {
   "codemirror_mode": {
    "name": "ipython",
    "version": 3
   },
   "file_extension": ".py",
   "mimetype": "text/x-python",
   "name": "python",
   "nbconvert_exporter": "python",
   "pygments_lexer": "ipython3",
   "version": "3.8.10"
  }
 },
 "nbformat": 4,
 "nbformat_minor": 5
}
